{
 "cells": [
  {
   "cell_type": "markdown",
   "metadata": {},
   "source": [
    "#  Martin, C., & Niemeyer, P. (in press). Influence of measurement errors on networks: Estimating the robustness of centrality measures.\n"
   ]
  },
  {
   "cell_type": "code",
   "execution_count": 1,
   "metadata": {},
   "outputs": [],
   "source": [
    "import networkx as nx\n",
    "import pandas as pd\n",
    "\n",
    "from EstimatingCentralityRobustness import remove_edges_proportional_degree, remove_edges_uniform, remove_nodes_uniform, add_edges_random, robustness_calculator_builder, estimate_robustness\n",
    "from functools import partial"
   ]
  },
  {
   "cell_type": "code",
   "execution_count": 2,
   "metadata": {},
   "outputs": [],
   "source": [
    "# create a robustness calculator for a specific error type and centrality measure, e.g.: degree centrality and missing nodes\n",
    "\n",
    "degree_robustness_calculator = robustness_calculator_builder(nx.degree_centrality)"
   ]
  },
  {
   "cell_type": "code",
   "execution_count": 3,
   "metadata": {},
   "outputs": [],
   "source": [
    "# create an example 'hidden' and 'measured' network\n",
    "# for this example, nodes are missing uniformly at random\n",
    "\n",
    "hidden_network = nx.erdos_renyi_graph(100, 0.2)\n",
    "measured_network = remove_nodes_uniform(hidden_network, alpha=0.1)"
   ]
  },
  {
   "cell_type": "code",
   "execution_count": 4,
   "metadata": {},
   "outputs": [
    {
     "data": {
      "text/plain": [
       "0.8446665106155035"
      ]
     },
     "execution_count": 4,
     "metadata": {},
     "output_type": "execute_result"
    }
   ],
   "source": [
    "# 'true robustness'\n",
    "degree_robustness_calculator(hidden_network, measured_network)"
   ]
  },
  {
   "cell_type": "code",
   "execution_count": 5,
   "metadata": {},
   "outputs": [
    {
     "data": {
      "text/plain": [
       "robustness_estimate(mean=0.849947589702866, sd=0.02136427158341803, values=None)"
      ]
     },
     "execution_count": 5,
     "metadata": {},
     "output_type": "execute_result"
    }
   ],
   "source": [
    "# estimate robustness\n",
    "estimate_robustness(measured_network, partial(remove_nodes_uniform, alpha=0.1), degree_robustness_calculator,)"
   ]
  },
  {
   "cell_type": "code",
   "execution_count": null,
   "metadata": {},
   "outputs": [],
   "source": []
  }
 ],
 "metadata": {
  "kernelspec": {
   "display_name": "Python 3",
   "language": "python",
   "name": "python3"
  },
  "language_info": {
   "codemirror_mode": {
    "name": "ipython",
    "version": 3
   },
   "file_extension": ".py",
   "mimetype": "text/x-python",
   "name": "python",
   "nbconvert_exporter": "python",
   "pygments_lexer": "ipython3",
   "version": "3.6.7"
  }
 },
 "nbformat": 4,
 "nbformat_minor": 2
}
